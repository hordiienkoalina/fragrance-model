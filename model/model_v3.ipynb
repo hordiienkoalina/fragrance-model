{
 "cells": [
  {
   "cell_type": "markdown",
   "metadata": {},
   "source": [
    "## Introduction"
   ]
  },
  {
   "cell_type": "markdown",
   "metadata": {},
   "source": [
    "In this assignment, I continue to use the dataset from my previous sumbission, and rather experiment with the way the data is formatted as an input and the mdoel used. The dataset comes from Parfumo.Com, where I extracted information about perfumes on the \"Popular Brands\" section, including its name, brand, release year, fragrance notes, community rating, and bottle image.\n",
    "\n",
    "In preparation for this assignment I read a paper that sucessfully used graph neural networks to engineer molecules for fragrances based on consumer feedback (Bruno C.L. Rodrigues et al., 2024). I became curious whether a graph representation and processing of fragrance notes might also be a better way to predict which brand a perfume bottle belongs to—specifially, using images as nodes and fragrance notes as edges; with this came several other changes compared to the previous implementation, as detailed below."
   ]
  },
  {
   "cell_type": "markdown",
   "metadata": {},
   "source": [
    "1. Transition from Convolution Neural Network (CNN) to Graph Convolutional Network (GCN) (PyTorch Geometric, 2024): Unlike conventional Convolutional Neural Networks (CNNs) that process data in a grid-like structure, GCNs operate over graph-structured data. This allows the model to not only process individual node features (derived from images) but also to aggregate information from adjacent nodes (connected by edges based on fragrance notes), enriching the feature space with relational data that is important for classification tasks where context matters.\n",
    "\n",
    "2. Jaccard Similarity for Edge Formation: Using Jaccard similarity to establish edges between nodes based on the similarity of their fragrance notes introduces a quantifiable measure of relationship strength, which is crucial for the relational learning aspect of GCNs.\n",
    "\n",
    "3. Feature Normalization: Normalizing features mitigates issues related to scale discrepancies among data points, thereby enhancing model training and performance stability.\n",
    "\n",
    "4. Adam Optimizer (PyTorch, 2023; Layan Alabdullatef, 2020): The adoption of the Adam optimizer, known for its adaptive learning rate capabilities, helps with more efficient convergence. Adam is particularly good for complex datasets like this one as it can handle irregular patterns in data and helps the model converge faster, meaning it learns the necessary patterns more quickly. The Adam optimizer adjusts the learning rate for each parameter based on estimates of first (the mean) and second (the uncentered variance) moments of the gradients:\n",
    "\n",
    "$$ \\theta_{t+1} = \\theta_{t} - \\frac{\\mu}{\\sqrt{\\hat{v_t}}+ϵ}\\hat{m_t} $$\n",
    "\n",
    "where:\n",
    "- $\\theta_{t}$ the parameter at iteration $t$,\n",
    "- $\\mu$ is the learning rate,\n",
    "- $\\hat{v_t}$ and $\\hat{m_t}$ are bias-corrected estimates of the first and second moments of the gradients,\n",
    "- $ϵ$ is a small scalar added to improve numerical stability.\n"
   ]
  },
  {
   "cell_type": "markdown",
   "metadata": {},
   "source": [
    "## Implementation"
   ]
  },
  {
   "cell_type": "code",
   "execution_count": 1,
   "metadata": {},
   "outputs": [
    {
     "name": "stderr",
     "output_type": "stream",
     "text": [
      "/Users/hordiienkoalina/Dev/fragrance-model/test-venv/lib/python3.9/site-packages/urllib3/__init__.py:35: NotOpenSSLWarning: urllib3 v2 only supports OpenSSL 1.1.1+, currently the 'ssl' module is compiled with 'LibreSSL 2.8.3'. See: https://github.com/urllib3/urllib3/issues/3020\n",
      "  warnings.warn(\n"
     ]
    }
   ],
   "source": [
    "import pandas as pd\n",
    "import networkx as nx\n",
    "import numpy as np\n",
    "import matplotlib.pyplot as plt\n",
    "import os\n",
    "import warnings\n",
    "from sklearn.feature_extraction.text import TfidfVectorizer\n",
    "from keras.applications.mobilenet_v2 import MobileNetV2, preprocess_input\n",
    "from keras.preprocessing import image\n",
    "from keras.models import Model\n",
    "import torch\n",
    "from torch_geometric.data import Data\n",
    "from torch_geometric.nn import GCNConv\n",
    "import torch.optim as optim\n",
    "import torch.nn.functional as F"
   ]
  },
  {
   "cell_type": "code",
   "execution_count": 2,
   "metadata": {},
   "outputs": [],
   "source": [
    "# Suppress FutureWarnings\n",
    "warnings.filterwarnings('ignore', category=FutureWarning)\n",
    "\n",
    "# Suppress UserWarnings\n",
    "warnings.filterwarnings('ignore', category=UserWarning)"
   ]
  },
  {
   "cell_type": "code",
   "execution_count": 3,
   "metadata": {},
   "outputs": [],
   "source": [
    "# Loads and preprocesses the dataset\n",
    "data_path = '../data/popular_perfumes.csv'\n",
    "df = pd.read_csv(data_path)"
   ]
  },
  {
   "cell_type": "code",
   "execution_count": 4,
   "metadata": {},
   "outputs": [],
   "source": [
    "# Drops the 'Main Accords' column and remove rows with NaN in 'Brand'\n",
    "df.drop('Main Accords', axis=1, inplace=True)\n",
    "df.dropna(subset=['Brand'], inplace=True)\n",
    "\n",
    "# Ensures 'Release Year' contains only 4-digit values or NaN\n",
    "df['Release Year'] = df['Release Year'].apply(lambda x: np.nan if pd.isnull(x) or len(str(x)) != 4 else x)\n",
    "\n",
    "# Removes rows with NaN in 'Fragrance Notes'\n",
    "df = df.dropna(subset=['Fragrance Notes'])"
   ]
  },
  {
   "cell_type": "code",
   "execution_count": 5,
   "metadata": {},
   "outputs": [],
   "source": [
    "def extract_image_features(img_path):  # Defines a function to extract features from an image at the specified path.\n",
    "    if os.path.exists(img_path):  # Checks if the image file exists.\n",
    "        img = image.load_img(img_path, target_size=(224, 224))  # Loads and resizes the image to 224x224 pixels.\n",
    "        img_array = image.img_to_array(img)  # Converts the image to a NumPy array.\n",
    "        img_preprocessed = preprocess_input(img_array)  # Applies MobileNetV2-specific preprocessing.\n",
    "        img_features = model.predict(np.expand_dims(img_preprocessed, axis=0))  # Predicts the image features.\n",
    "        return img_features.flatten()  # Flattens the features into a 1D array and returns them.\n",
    "    else:\n",
    "        return None  # Returns None if the image does not exist.\n",
    "\n",
    "# Load pre-trained CNN\n",
    "model = MobileNetV2(weights='imagenet', include_top=False)  # Loads the MobileNetV2 model without the classification layers.\n",
    "model = Model(inputs=model.input, outputs=model.output)  # Defines the model's input and output layers."
   ]
  },
  {
   "cell_type": "code",
   "execution_count": 6,
   "metadata": {},
   "outputs": [],
   "source": [
    "# Convert Fragrance Notes from string to list of notes\n",
    "df['Fragrance Notes'] = df['Fragrance Notes'].apply(lambda x: x.split(', '))"
   ]
  },
  {
   "cell_type": "code",
   "execution_count": 7,
   "metadata": {},
   "outputs": [],
   "source": [
    "def jaccard_similarity(set1, set2):\n",
    "    intersection = len(set1.intersection(set2))  # Calculates the size of the intersection of two sets.\n",
    "    union = len(set1.union(set2))  # Calculates the size of the union of two sets.\n",
    "    return intersection / union if union != 0 else 0  # Returns the Jaccard similarity ratio, or 0 if the union is empty."
   ]
  },
  {
   "cell_type": "code",
   "execution_count": 8,
   "metadata": {},
   "outputs": [],
   "source": [
    "%%capture\n",
    "G = nx.Graph()  # Initializes an empty graph.\n",
    "skipped_files = []  # Initializes a list to track images that cannot be processed.\n",
    "all_features = []  # Initializes a list to collect all extracted features.\n",
    "node_names = []  # Initializes a list to store perfume names corresponding to the features.\n",
    "\n",
    "# Iterates over rows in the dataframe.\n",
    "for index, row in df.iterrows():\n",
    "    image_features = extract_image_features(row['Image Path'])  # Extracts features based on the image path.\n",
    "    if image_features is None:\n",
    "        skipped_files.append(row['Image Path'])  # Logs paths where images couldn't be processed.\n",
    "    else:\n",
    "        all_features.append(image_features)  # Collects valid features.\n",
    "        node_names.append(row['Perfume Name'])  # Collects corresponding perfume names.\n",
    "        # Adds a graph node for each perfume with its image features and brand.\n",
    "        G.add_node(row['Perfume Name'], image_feature=image_features, brand=row['Brand'])\n",
    "\n",
    "# Converts the list of features into a NumPy array for normalization.\n",
    "all_features = np.array(all_features)\n",
    "\n",
    "# Calculates mean and standard deviation for normalization.\n",
    "mean = np.mean(all_features, axis=0)\n",
    "std = np.std(all_features, axis=0)\n",
    "std[std == 0] = 1  # Adjusts zero std to one to prevent division by zero.\n",
    "normalized_features = (all_features - mean) / std  # Normalizes features.\n",
    "\n",
    "# Updates the graph nodes with normalized features.\n",
    "for idx, node_name in enumerate(node_names):\n",
    "    G.nodes[node_name]['image_feature'] = normalized_features[idx]\n",
    "\n",
    "# Adds edges between nodes based on the Jaccard similarity of their fragrance notes.\n",
    "for i, perfume1 in df.iterrows():\n",
    "    for j, perfume2 in df.iterrows():\n",
    "        if i < j:  # Ensures each pair is only compared once.\n",
    "            similarity = jaccard_similarity(set(perfume1['Fragrance Notes']), set(perfume2['Fragrance Notes']))\n",
    "            if similarity > 0.1:  # Adds an edge if the similarity exceeds 0.1.\n",
    "                G.add_edge(perfume1['Perfume Name'], perfume2['Perfume Name'], weight=similarity)"
   ]
  },
  {
   "cell_type": "code",
   "execution_count": 9,
   "metadata": {},
   "outputs": [
    {
     "name": "stdout",
     "output_type": "stream",
     "text": [
      "Removed 1 nodes due to missing image features.\n"
     ]
    }
   ],
   "source": [
    "# Removing nodes without image features before creating tensor\n",
    "nodes_to_remove = [node for node, data in G.nodes(data=True) if 'image_feature' not in data]  # Lists nodes lacking 'image_feature' attribute.\n",
    "for node in nodes_to_remove:\n",
    "    G.remove_node(node)  # Removes each node in the list from the graph.\n",
    "\n",
    "print(f\"Removed {len(nodes_to_remove)} nodes due to missing image features.\")  # Outputs the number of nodes removed."
   ]
  },
  {
   "cell_type": "code",
   "execution_count": 10,
   "metadata": {},
   "outputs": [
    {
     "name": "stdout",
     "output_type": "stream",
     "text": [
      "Number of nodes: 4321\n",
      "Number of edges: 1821063\n"
     ]
    }
   ],
   "source": [
    "print(\"Number of nodes:\", len(G.nodes()))\n",
    "print(\"Number of edges:\", len(G.edges()))"
   ]
  },
  {
   "cell_type": "code",
   "execution_count": 11,
   "metadata": {},
   "outputs": [
    {
     "data": {
      "image/png": "[encoded data removed]",
      "text/plain": [
       "<Figure size 640x480 with 1 Axes>"
      ]
     },
     "metadata": {},
     "output_type": "display_data"
    }
   ],
   "source": [
    "degrees = [degree for node, degree in G.degree()]  # Collects degrees of all nodes in the graph.\n",
    "\n",
    "# Plotting the histogram of node degrees.\n",
    "plt.hist(degrees, bins=np.linspace(0, max(degrees), 20))\n",
    "plt.title(\"Degree Distribution\")\n",
    "plt.xlabel(\"Degree\")\n",
    "plt.ylabel(\"Number of nodes\")\n",
    "plt.show()"
   ]
  },
  {
   "cell_type": "code",
   "execution_count": 12,
   "metadata": {},
   "outputs": [],
   "source": [
    "# Prepare graph data for PyTorch Geometric\n",
    "node_mapping = {node: idx for idx, node in enumerate(G.nodes())}  # Creates a mapping from node names to contiguous indices.\n",
    "edge_index = torch.tensor([[node_mapping[s], node_mapping[t]] for s, t in G.edges()], dtype=torch.long).t().contiguous()  # Constructs an edge index tensor for use in PyTorch Geometric.\n",
    "x = torch.tensor([G.nodes[node]['image_feature'] for node in G.nodes()], dtype=torch.float)  # Creates a tensor of node features from the graph.\n",
    "\n",
    "data = Data(x=x, edge_index=edge_index)  # Initializes a PyTorch Geometric Data object with node features and the edge index.\n",
    "\n",
    "class GCN(torch.nn.Module):  # Defines a class for the Graph Convolutional Network model.\n",
    "    def __init__(self):\n",
    "        super(GCN, self).__init__()\n",
    "        self.conv1 = GCNConv(data.num_node_features, 128)  # First GCN layer transforming node features to 128 features.\n",
    "        self.conv2 = GCNConv(128, len(df['Brand'].unique()))  # Second GCN layer transforming 128 features to the number of unique brands.\n",
    "\n",
    "    def forward(self, data):  # Defines the forward pass of the model.\n",
    "        x, edge_index = data.x, data.edge_index  # Extracts node features and edge index from the data.\n",
    "        x = torch.relu(self.conv1(x, edge_index))  # Applies the first convolution and ReLU activation.\n",
    "        x = torch.dropout(x, p=0.5, train=self.training)  # Applies dropout for regularization during training.\n",
    "        x = self.conv2(x, edge_index)  # Applies the second convolution.\n",
    "        return torch.log_softmax(x, dim=1)  # Applies log softmax activation to get log-probabilities.\n",
    "\n",
    "model = GCN()  # Instantiates the GCN model."
   ]
  },
  {
   "cell_type": "code",
   "execution_count": 13,
   "metadata": {},
   "outputs": [],
   "source": [
    "# Convert brand names to class labels\n",
    "brand_to_idx = {brand: idx for idx, brand in enumerate(df['Brand'].unique())}  # Creates a dictionary mapping each unique brand to a unique index.\n",
    "labels = torch.tensor([brand_to_idx[G.nodes[node]['brand']] for node in G.nodes()], dtype=torch.long)  # Maps brand names in graph nodes to indices and converts them to a tensor.\n",
    "\n",
    "# Prepare the data object with labels\n",
    "data = Data(x=x, edge_index=edge_index, y=labels)  # Creates a PyTorch Geometric Data object, now including labels for each node.\n",
    "\n",
    "# Split data into train and test (simple split for illustration)\n",
    "data.train_mask = torch.rand(data.num_nodes) < 0.8  # Randomly assigns 80% of the nodes to the training set.\n",
    "data.test_mask = ~data.train_mask  # Assigns the remaining nodes to the test set by taking the complement of the train mask.\n",
    "\n",
    "# Setup the optimizer\n",
    "optimizer = optim.Adam(model.parameters(), lr=0.005)  # Initializes the Adam optimizer with a learning rate of 0.005 for model parameters.\n",
    "\n",
    "# Define device\n",
    "device = torch.device('cuda' if torch.cuda.is_available() else 'cpu')  # Defines the device as CUDA if available, otherwise CPU.\n",
    "model = model.to(device)  # Moves the model to the defined device.\n",
    "data = data.to(device)  # Moves the data to the defined device."
   ]
  },
  {
   "cell_type": "code",
   "execution_count": 14,
   "metadata": {},
   "outputs": [
    {
     "name": "stdout",
     "output_type": "stream",
     "text": [
      "Epoch: 0, Loss: 5.1627, Test Acc: 0.0229\n",
      "Epoch: 10, Loss: 16.8912, Test Acc: 0.0436\n",
      "Epoch: 20, Loss: 5.7584, Test Acc: 0.0470\n",
      "Epoch: 30, Loss: 4.8675, Test Acc: 0.0619\n",
      "Epoch: 40, Loss: 4.7102, Test Acc: 0.0573\n",
      "Epoch: 50, Loss: 4.5140, Test Acc: 0.0654\n",
      "Epoch: 60, Loss: 4.2483, Test Acc: 0.0734\n",
      "Epoch: 70, Loss: 3.9923, Test Acc: 0.0894\n",
      "Epoch: 80, Loss: 3.7543, Test Acc: 0.1089\n",
      "Epoch: 90, Loss: 3.4732, Test Acc: 0.1399\n",
      "Epoch: 100, Loss: 3.1850, Test Acc: 0.1686\n",
      "Epoch: 110, Loss: 3.0077, Test Acc: 0.1904\n",
      "Epoch: 120, Loss: 2.8833, Test Acc: 0.2041\n",
      "Epoch: 130, Loss: 2.6802, Test Acc: 0.2259\n",
      "Epoch: 140, Loss: 2.6341, Test Acc: 0.2374\n",
      "Epoch: 150, Loss: 2.4872, Test Acc: 0.2328\n",
      "Epoch: 160, Loss: 2.3826, Test Acc: 0.2500\n",
      "Epoch: 170, Loss: 2.2364, Test Acc: 0.2443\n",
      "Epoch: 180, Loss: 2.2015, Test Acc: 0.2810\n",
      "Epoch: 190, Loss: 2.1048, Test Acc: 0.2924\n",
      "Epoch: 200, Loss: 1.9465, Test Acc: 0.2741\n",
      "Epoch: 210, Loss: 2.0957, Test Acc: 0.2729\n",
      "Epoch: 220, Loss: 1.9068, Test Acc: 0.3028\n",
      "Epoch: 230, Loss: 1.8539, Test Acc: 0.3165\n",
      "Epoch: 240, Loss: 1.7678, Test Acc: 0.3188\n",
      "Epoch: 250, Loss: 1.7493, Test Acc: 0.3119\n",
      "Epoch: 260, Loss: 1.7010, Test Acc: 0.3326\n",
      "Epoch: 270, Loss: 1.5794, Test Acc: 0.3211\n",
      "Epoch: 280, Loss: 1.6484, Test Acc: 0.3154\n",
      "Epoch: 290, Loss: 1.6369, Test Acc: 0.3417\n",
      "Epoch: 300, Loss: 1.5131, Test Acc: 0.3475\n",
      "Epoch: 310, Loss: 1.4208, Test Acc: 0.3498\n",
      "Epoch: 320, Loss: 1.4733, Test Acc: 0.3440\n",
      "Epoch: 330, Loss: 1.4162, Test Acc: 0.3314\n",
      "Epoch: 340, Loss: 1.3415, Test Acc: 0.3486\n",
      "Epoch: 350, Loss: 1.3515, Test Acc: 0.3578\n",
      "Epoch: 360, Loss: 1.3191, Test Acc: 0.3635\n",
      "Epoch: 370, Loss: 1.3113, Test Acc: 0.3624\n",
      "Epoch: 380, Loss: 1.3050, Test Acc: 0.3750\n",
      "Epoch: 390, Loss: 1.2795, Test Acc: 0.3773\n",
      "Epoch: 400, Loss: 1.2347, Test Acc: 0.3624\n",
      "Epoch: 410, Loss: 1.1797, Test Acc: 0.3853\n",
      "Epoch: 420, Loss: 1.2395, Test Acc: 0.3704\n",
      "Epoch: 430, Loss: 1.1794, Test Acc: 0.3796\n",
      "Epoch: 440, Loss: 1.1072, Test Acc: 0.3727\n",
      "Epoch: 450, Loss: 1.1757, Test Acc: 0.3830\n",
      "Epoch: 460, Loss: 1.0924, Test Acc: 0.3750\n",
      "Epoch: 470, Loss: 1.0772, Test Acc: 0.3945\n",
      "Epoch: 480, Loss: 1.1333, Test Acc: 0.3670\n",
      "Epoch: 490, Loss: 1.0081, Test Acc: 0.3773\n"
     ]
    }
   ],
   "source": [
    "def train():\n",
    "    model.train()  # Sets the model to training mode (enables dropout, batch normalization).\n",
    "    optimizer.zero_grad()  # Clears old gradients from the last step.\n",
    "    out = model(data)  # Computes the forward pass using the model.\n",
    "    loss = F.nll_loss(out[data.train_mask], data.y[data.train_mask])  # Calculates the loss using only the nodes designated as training data.\n",
    "    loss.backward()  # Computes the gradient of the loss w.r.t. the parameters.\n",
    "    optimizer.step()  # Updates the parameters based on the gradients.\n",
    "    return loss.item()  # Returns the numeric value of the loss.\n",
    "\n",
    "def test():\n",
    "    model.eval()  # Sets the model to evaluation mode (disables dropout, batch normalization).\n",
    "    with torch.no_grad():  # Disables gradient calculation to save memory and speed up computation.\n",
    "        logits = model(data)  # Computes the model's output.\n",
    "        pred = logits.argmax(dim=1)  # Finds the prediction with the highest probability.\n",
    "        test_correct = pred[data.test_mask] == data.y[data.test_mask]  # Checks which predictions match the true labels in the test set.\n",
    "        test_acc = test_correct.sum().item() / data.test_mask.sum().item()  # Calculates the accuracy of the predictions.\n",
    "    return test_acc  # Returns the test accuracy.\n",
    "\n",
    "# Lists to store metrics\n",
    "train_losses = []  # Initializes a list to store training losses.\n",
    "test_accuracies = []  # Initializes a list to store test accuracies.\n",
    "\n",
    "# Number of epochs\n",
    "epochs = 500  # Sets the number of epochs (full cycles through the training data).\n",
    "\n",
    "for epoch in range(epochs):\n",
    "    loss = train()  # Executes the training function and gets the loss.\n",
    "    train_losses.append(loss)  # Appends the current loss to the list of training losses.\n",
    "\n",
    "    if epoch % 10 == 0:  # Tests the model every 10 epochs.\n",
    "        test_acc = test()  # Executes the testing function and gets the accuracy.\n",
    "        test_accuracies.append((epoch, test_acc))  # Appends the current epoch and test accuracy to the list.\n",
    "        print(f'Epoch: {epoch}, Loss: {loss:.4f}, Test Acc: {test_acc:.4f}')  # Prints the epoch, loss, and test accuracy.\n"
   ]
  },
  {
   "cell_type": "code",
   "execution_count": 15,
   "metadata": {},
   "outputs": [
    {
     "data": {
      "image/png": "[encoded data removed]",
      "text/plain": [
       "<Figure size 1000x500 with 2 Axes>"
      ]
     },
     "metadata": {},
     "output_type": "display_data"
    }
   ],
   "source": [
    "# Plots the training loss\n",
    "plt.figure(figsize=(10, 5))\n",
    "plt.subplot(1, 2, 1)\n",
    "plt.plot(train_losses, label='Training Loss')\n",
    "plt.title('Training Loss Over Epochs')\n",
    "plt.xlabel('Epoch')\n",
    "plt.ylabel('Loss')\n",
    "plt.legend()\n",
    "\n",
    "# Plots the test accuracy\n",
    "plt.subplot(1, 2, 2)\n",
    "epochs, accs = zip(*test_accuracies)  # Unzip the list of tuples\n",
    "plt.plot(epochs, accs, label='Test Accuracy', color='r')\n",
    "plt.title('Test Accuracy Over Epochs')\n",
    "plt.xlabel('Epoch')\n",
    "plt.ylabel('Accuracy')\n",
    "plt.legend()\n",
    "\n",
    "plt.tight_layout()\n",
    "plt.show()"
   ]
  },
  {
   "cell_type": "markdown",
   "metadata": {},
   "source": [
    "## Interpretation"
   ]
  },
  {
   "cell_type": "markdown",
   "metadata": {},
   "source": [
    "Training Loss Over Epochs:\n",
    "\n",
    "The training loss starts off very high and sees a sharp decrease, stabilizing quickly within the first few epochs. This indicates that the model is learning from the training data effectively. However, the rapid decline and subsequent plateau may suggest that the model is not continuing to learn much after the initial epochs. It could also mean that the model is too simple and is unable to capture more complex patterns in the data after the initial learning phase.\n",
    "\n",
    "Test Accuracy Over Epochs:\n",
    "\n",
    "The test accuracy shows a gradual increase over time, suggesting that the model is becoming better at generalizing to unseen data. The increase is not smooth; it has some variability, which is common in training processes due to the stochastic nature of most optimization algorithms like Adam. However, the overall trend is upwards, although the accuracy is relatively low, leveling off at around 35%."
   ]
  },
  {
   "cell_type": "markdown",
   "metadata": {},
   "source": [
    "Comparing to the CNN model from the previous assignment:\n",
    "\n",
    "Model Architecture:\n",
    "- MobileNetV2 is a CNN designed for image data and benefits from extensive pre-training on ImageNet, a large and diverse dataset that helps it learn a wide range of features applicable to many image recognition tasks. The architecture is highly optimized for visual pattern recognition within images.\n",
    "- GCN, on the other hand, is structured to handle graph data. While it can process image data represented as graphs, its primary strength lies in capturing the relationships between data points (nodes) and not just the standalone features of each point.\n",
    "\n",
    "Pre-training and Transfer Learning:\n",
    "- The MobileNetV2 model has been pre-trained on a large dataset (ImageNet), which likely includes a wide variety of images. Transfer learning allows it to apply this broad knowledge base to the specific task at hand, requiring only fine-tuning on a new dataset to achieve high accuracy.\n",
    "- The GCN model lacks this pre-trained advantage specifically for image data, which means it might require more data or more epochs to learn from scratch, or it may simply not be as suitable for the task as MobileNetV2 if the task is purely image-based classification.\n",
    "\n",
    "Data Representation:\n",
    "- The success of MobileNetV2 in the previous assignment might be due to the dataset being primarily image-centric, where each data point is an image and benefits from the spatial hierarchies learned by CNNs.\n",
    "- GCNs are inherently designed for data that includes not only features but also connections or relationships, which means they might excel in scenarios where the dataset captures complex interrelationships between data points, like social networks or molecular structures.\n",
    "\n",
    "\n",
    "In summary, the MobileNetV2 model significantly outperforms the GCN model on the perfume dataset, achieving high validation accuracy through effective transfer learning from pre-trained ImageNet weights. Its architecture is particularly well-suited to the image-based aspects of the dataset. The GCN's lower performance indicates that it may require additional refinement and data representation to fully utilize its graph-based approach."
   ]
  },
  {
   "cell_type": "markdown",
   "metadata": {},
   "source": [
    "## Bibliography"
   ]
  },
  {
   "cell_type": "markdown",
   "metadata": {},
   "source": [
    "- Bruno C.L. Rodrigues, Santana, V. V., Queiroz, L. P., Rebello, C. M., & Idelfonso B.R. Nogueira. (2024). Harnessing Graph Neural Networks to Craft Fragrances Based on Consumer Feedback. Computers & Chemical Engineering, 185, 108674–108674. https://doi.org/10.1016/j.compchemeng.2024.108674\n",
    "- Layan Alabdullatef. (2020, September 2). Complete Guide to Adam Optimization - Layan Alabdullatef - Medium. Medium; Medium. https://medium.com/@LayanSA/complete-guide-to-adam-optimization-1e5f29532c3d\n",
    "- PyTorch. (2023). Adam. Pytorch.org. https://pytorch.org/docs/stable/generated/torch.optim.Adam.html\n",
    "- PyTorch Geometric. (2024). torch_geometric.nn.models.GCN — pytorch_geometric  documentation. Readthedocs.io. https://pytorch-geometric.readthedocs.io/en/latest/generated/torch_geometric.nn.models.GCN.html"
   ]
  },
  {
   "cell_type": "markdown",
   "metadata": {},
   "source": [
    "## AI Statement"
   ]
  },
  {
   "cell_type": "markdown",
   "metadata": {},
   "source": [
    "I used ChatGPT for help with debugging, adding comments to code and editing the narrative for clarity and flow."
   ]
  }
 ],
 "metadata": {
  "kernelspec": {
   "display_name": "test-venv",
   "language": "python",
   "name": "python3"
  },
  "language_info": {
   "codemirror_mode": {
    "name": "ipython",
    "version": 3
   },
   "file_extension": ".py",
   "mimetype": "text/x-python",
   "name": "python",
   "nbconvert_exporter": "python",
   "pygments_lexer": "ipython3",
   "version": "3.9.6"
  }
 },
 "nbformat": 4,
 "nbformat_minor": 2
}
